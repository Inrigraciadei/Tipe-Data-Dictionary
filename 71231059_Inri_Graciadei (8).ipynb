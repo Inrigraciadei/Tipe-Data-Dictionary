{
  "nbformat": 4,
  "nbformat_minor": 0,
  "metadata": {
    "colab": {
      "provenance": []
    },
    "kernelspec": {
      "name": "python3",
      "display_name": "Python 3"
    },
    "language_info": {
      "name": "python"
    }
  },
  "cells": [
    {
      "cell_type": "code",
      "execution_count": null,
      "metadata": {
        "id": "yU5JAhe3OEmy"
      },
      "outputs": [],
      "source": [
        "Soal 1"
      ]
    },
    {
      "cell_type": "code",
      "source": [
        "dict = {1: 10, 2: 20, 3: 30, 4: 40, 5: 50, 6: 60}\n",
        "\n",
        "print(\"{:<4} {:<6} {:<4}\".format(\"key\", \"value\", \"item\"))\n",
        "for key, value in dict.items():\n",
        "    print(\"{:<4} {:<6} {:<4}\".format(key, value, key))"
      ],
      "metadata": {
        "colab": {
          "base_uri": "https://localhost:8080/"
        },
        "id": "kCqV6p4LOHKB",
        "outputId": "0d62d2c5-de6e-40d9-c03f-68f1aea9cd80"
      },
      "execution_count": 1,
      "outputs": [
        {
          "output_type": "stream",
          "name": "stdout",
          "text": [
            "key  value  item\n",
            "1    10     1   \n",
            "2    20     2   \n",
            "3    30     3   \n",
            "4    40     4   \n",
            "5    50     5   \n",
            "6    60     6   \n"
          ]
        }
      ]
    },
    {
      "cell_type": "markdown",
      "source": [
        "Soal 2"
      ],
      "metadata": {
        "id": "3kqSdFHCOWL4"
      }
    },
    {
      "cell_type": "code",
      "source": [
        "list_pertama = ['red', 'green', 'blue']\n",
        "list_kedua = ['#FF0000','#008000', '#0000FF']\n",
        "\n",
        "list_baru = dict()\n",
        "\n",
        "for i in range(len(list_pertama)):\n",
        "    list_baru[list_pertama[i]] = list_kedua[i]\n",
        "\n",
        "print(list_baru)"
      ],
      "metadata": {
        "id": "Dw2HhaUxOXZx"
      },
      "execution_count": null,
      "outputs": []
    },
    {
      "cell_type": "markdown",
      "source": [
        "Soal 3"
      ],
      "metadata": {
        "id": "eHAoqxxwPjLb"
      }
    },
    {
      "cell_type": "code",
      "source": [
        "import re\n",
        "\n",
        "file = input(\"Masukkan nama file : \")\n",
        "handle = open(file)\n",
        "\n",
        "email = dict()\n",
        "for i in handle:\n",
        "    if i not in email:\n",
        "        email[i] = 1\n",
        "    else:\n",
        "        email[i] = email[i] + 1\n",
        "\n",
        "print(email)\n",
        "\n",
        "handle.close()"
      ],
      "metadata": {
        "id": "EMhd6BzCPkPT"
      },
      "execution_count": null,
      "outputs": []
    },
    {
      "cell_type": "markdown",
      "source": [
        "Soal 4"
      ],
      "metadata": {
        "id": "M5Jf6XgsP1g8"
      }
    },
    {
      "cell_type": "code",
      "source": [
        "import re\n",
        "\n",
        "file = input(\"Masukkan nama file : \")\n",
        "handle = open(file)\n",
        "\n",
        "email = dict()\n",
        "for i in handle:\n",
        "    x = re.search('From: ', i)\n",
        "    if (x):\n",
        "        i = i.strip()\n",
        "        i = i.split('@')\n",
        "        i = i[1]\n",
        "        if i not in email:\n",
        "            email[i] = 1\n",
        "        else:\n",
        "            email[i] = email[i] + 1\n",
        "\n",
        "print(email)\n",
        "\n",
        "handle.close()"
      ],
      "metadata": {
        "id": "DZu8tuq6P3LF"
      },
      "execution_count": null,
      "outputs": []
    }
  ]
}